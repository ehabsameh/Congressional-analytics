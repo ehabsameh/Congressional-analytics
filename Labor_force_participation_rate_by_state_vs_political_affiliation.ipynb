{
  "cells": [
    {
      "cell_type": "markdown",
      "metadata": {
        "id": "view-in-github",
        "colab_type": "text"
      },
      "source": [
        "<a href=\"https://colab.research.google.com/github/ehabsameh/Congressional-analytics/blob/main/Labor_force_participation_rate_by_state_vs_political_affiliation.ipynb\" target=\"_parent\"><img src=\"https://colab.research.google.com/assets/colab-badge.svg\" alt=\"Open In Colab\"/></a>"
      ]
    },
    {
      "cell_type": "markdown",
      "source": [
        "#Variable Explination:\n",
        "\n",
        "The additional variables we selected from the census data set are Employment status for district populations for those over the age of 16 total, total not in labor force, and total in labor force. \n",
        "\n",
        "It is important to note that the labor force is made up of those who are either employed or unemployed. With actively employed persons being in the employed category and those who are actively seeking work in the unemployed category. Those who fall under neither category are considered not in the labor force. "
      ],
      "metadata": {
        "id": "TxROo_jcb_8B"
      },
      "id": "TxROo_jcb_8B"
    },
    {
      "cell_type": "markdown",
      "source": [
        "#Hypothesis\n",
        "\n",
        "According to the bureau of labor statistics those who fall in the category of not in the labor force are typically either in school, retired, or have family responsibilities such as caring for a sick family member. We hypothesize that these groups are all more likely to support democratic congressional candidates. We believe college students are more likely to support democratic candidates due to social believes and potential student loan payouts, retired persons are more likely to support democratic candidates as they typically support medicare and medicaid programs that will benefit the elderly, and those caring for the sick are more likely to support democratic candidates due to their support of healthcare programs.  "
      ],
      "metadata": {
        "id": "7iW9YcTSZkH1"
      },
      "id": "7iW9YcTSZkH1"
    },
    {
      "cell_type": "markdown",
      "source": [
        "#Data collection and Wrangling"
      ],
      "metadata": {
        "id": "N95lYMesXtDt"
      },
      "id": "N95lYMesXtDt"
    },
    {
      "cell_type": "markdown",
      "id": "7a0d50c1",
      "metadata": {
        "id": "7a0d50c1"
      },
      "source": [
        "            \n",
        "### Our variables:\n",
        "B23025_001E: EMPLOYMENT STATUS FOR THE POPULATION 16 YEARS AND OVER \\\n",
        "            Estimate!!Total: \\\n",
        "B23025_007E: EMPLOYMENT STATUS FOR THE POPULATION 16 YEARS AND OVER \\\n",
        "            Estimate!!Total:!!Not in labor force \\\n",
        "B23025_002E: EMPLOYMENT STATUS FOR THE POPULATION 16 YEARS AND OVER \\\n",
        "            Estimate!!Total:!!In labor force "
      ]
    },
    {
      "cell_type": "code",
      "source": [
        "#import needed packages\n",
        "\n",
        "import pandas as pd\n",
        "import json\n",
        "from urllib.request import urlopen\n",
        "import matplotlib.pyplot as plt\n",
        "import plotly.express as px\n",
        "from urllib import request\n",
        "import json\n",
        "import numpy as np"
      ],
      "metadata": {
        "id": "wx_ORjulputQ"
      },
      "id": "wx_ORjulputQ",
      "execution_count": null,
      "outputs": []
    },
    {
      "cell_type": "code",
      "execution_count": null,
      "id": "991b0fb2",
      "metadata": {
        "id": "991b0fb2",
        "outputId": "e0d466df-0604-4332-c111-dc84a4ead1ad",
        "colab": {
          "base_uri": "https://localhost:8080/",
          "height": 206
        }
      },
      "outputs": [
        {
          "output_type": "execute_result",
          "data": {
            "text/plain": [
              "  Total Households Not in labor force In labor force  district number  \\\n",
              "0           589171             225060         364111               10   \n",
              "1           624753             265753         359000                4   \n",
              "2           541190             215463         325727               14   \n",
              "3           595469             270347         325122                1   \n",
              "4           591680             254348         337332                3   \n",
              "\n",
              "         State  \n",
              "0     Michigan  \n",
              "1  Mississippi  \n",
              "2     Michigan  \n",
              "3     Michigan  \n",
              "4  Mississippi  "
            ],
            "text/html": [
              "\n",
              "  <div id=\"df-ff501923-ff9f-496b-adf1-d75e7785431d\">\n",
              "    <div class=\"colab-df-container\">\n",
              "      <div>\n",
              "<style scoped>\n",
              "    .dataframe tbody tr th:only-of-type {\n",
              "        vertical-align: middle;\n",
              "    }\n",
              "\n",
              "    .dataframe tbody tr th {\n",
              "        vertical-align: top;\n",
              "    }\n",
              "\n",
              "    .dataframe thead th {\n",
              "        text-align: right;\n",
              "    }\n",
              "</style>\n",
              "<table border=\"1\" class=\"dataframe\">\n",
              "  <thead>\n",
              "    <tr style=\"text-align: right;\">\n",
              "      <th></th>\n",
              "      <th>Total Households</th>\n",
              "      <th>Not in labor force</th>\n",
              "      <th>In labor force</th>\n",
              "      <th>district number</th>\n",
              "      <th>State</th>\n",
              "    </tr>\n",
              "  </thead>\n",
              "  <tbody>\n",
              "    <tr>\n",
              "      <th>0</th>\n",
              "      <td>589171</td>\n",
              "      <td>225060</td>\n",
              "      <td>364111</td>\n",
              "      <td>10</td>\n",
              "      <td>Michigan</td>\n",
              "    </tr>\n",
              "    <tr>\n",
              "      <th>1</th>\n",
              "      <td>624753</td>\n",
              "      <td>265753</td>\n",
              "      <td>359000</td>\n",
              "      <td>4</td>\n",
              "      <td>Mississippi</td>\n",
              "    </tr>\n",
              "    <tr>\n",
              "      <th>2</th>\n",
              "      <td>541190</td>\n",
              "      <td>215463</td>\n",
              "      <td>325727</td>\n",
              "      <td>14</td>\n",
              "      <td>Michigan</td>\n",
              "    </tr>\n",
              "    <tr>\n",
              "      <th>3</th>\n",
              "      <td>595469</td>\n",
              "      <td>270347</td>\n",
              "      <td>325122</td>\n",
              "      <td>1</td>\n",
              "      <td>Michigan</td>\n",
              "    </tr>\n",
              "    <tr>\n",
              "      <th>4</th>\n",
              "      <td>591680</td>\n",
              "      <td>254348</td>\n",
              "      <td>337332</td>\n",
              "      <td>3</td>\n",
              "      <td>Mississippi</td>\n",
              "    </tr>\n",
              "  </tbody>\n",
              "</table>\n",
              "</div>\n",
              "      <button class=\"colab-df-convert\" onclick=\"convertToInteractive('df-ff501923-ff9f-496b-adf1-d75e7785431d')\"\n",
              "              title=\"Convert this dataframe to an interactive table.\"\n",
              "              style=\"display:none;\">\n",
              "        \n",
              "  <svg xmlns=\"http://www.w3.org/2000/svg\" height=\"24px\"viewBox=\"0 0 24 24\"\n",
              "       width=\"24px\">\n",
              "    <path d=\"M0 0h24v24H0V0z\" fill=\"none\"/>\n",
              "    <path d=\"M18.56 5.44l.94 2.06.94-2.06 2.06-.94-2.06-.94-.94-2.06-.94 2.06-2.06.94zm-11 1L8.5 8.5l.94-2.06 2.06-.94-2.06-.94L8.5 2.5l-.94 2.06-2.06.94zm10 10l.94 2.06.94-2.06 2.06-.94-2.06-.94-.94-2.06-.94 2.06-2.06.94z\"/><path d=\"M17.41 7.96l-1.37-1.37c-.4-.4-.92-.59-1.43-.59-.52 0-1.04.2-1.43.59L10.3 9.45l-7.72 7.72c-.78.78-.78 2.05 0 2.83L4 21.41c.39.39.9.59 1.41.59.51 0 1.02-.2 1.41-.59l7.78-7.78 2.81-2.81c.8-.78.8-2.07 0-2.86zM5.41 20L4 18.59l7.72-7.72 1.47 1.35L5.41 20z\"/>\n",
              "  </svg>\n",
              "      </button>\n",
              "      \n",
              "  <style>\n",
              "    .colab-df-container {\n",
              "      display:flex;\n",
              "      flex-wrap:wrap;\n",
              "      gap: 12px;\n",
              "    }\n",
              "\n",
              "    .colab-df-convert {\n",
              "      background-color: #E8F0FE;\n",
              "      border: none;\n",
              "      border-radius: 50%;\n",
              "      cursor: pointer;\n",
              "      display: none;\n",
              "      fill: #1967D2;\n",
              "      height: 32px;\n",
              "      padding: 0 0 0 0;\n",
              "      width: 32px;\n",
              "    }\n",
              "\n",
              "    .colab-df-convert:hover {\n",
              "      background-color: #E2EBFA;\n",
              "      box-shadow: 0px 1px 2px rgba(60, 64, 67, 0.3), 0px 1px 3px 1px rgba(60, 64, 67, 0.15);\n",
              "      fill: #174EA6;\n",
              "    }\n",
              "\n",
              "    [theme=dark] .colab-df-convert {\n",
              "      background-color: #3B4455;\n",
              "      fill: #D2E3FC;\n",
              "    }\n",
              "\n",
              "    [theme=dark] .colab-df-convert:hover {\n",
              "      background-color: #434B5C;\n",
              "      box-shadow: 0px 1px 3px 1px rgba(0, 0, 0, 0.15);\n",
              "      filter: drop-shadow(0px 1px 2px rgba(0, 0, 0, 0.3));\n",
              "      fill: #FFFFFF;\n",
              "    }\n",
              "  </style>\n",
              "\n",
              "      <script>\n",
              "        const buttonEl =\n",
              "          document.querySelector('#df-ff501923-ff9f-496b-adf1-d75e7785431d button.colab-df-convert');\n",
              "        buttonEl.style.display =\n",
              "          google.colab.kernel.accessAllowed ? 'block' : 'none';\n",
              "\n",
              "        async function convertToInteractive(key) {\n",
              "          const element = document.querySelector('#df-ff501923-ff9f-496b-adf1-d75e7785431d');\n",
              "          const dataTable =\n",
              "            await google.colab.kernel.invokeFunction('convertToInteractive',\n",
              "                                                     [key], {});\n",
              "          if (!dataTable) return;\n",
              "\n",
              "          const docLinkHtml = 'Like what you see? Visit the ' +\n",
              "            '<a target=\"_blank\" href=https://colab.research.google.com/notebooks/data_table.ipynb>data table notebook</a>'\n",
              "            + ' to learn more about interactive tables.';\n",
              "          element.innerHTML = '';\n",
              "          dataTable['output_type'] = 'display_data';\n",
              "          await google.colab.output.renderOutput(dataTable, element);\n",
              "          const docLink = document.createElement('div');\n",
              "          docLink.innerHTML = docLinkHtml;\n",
              "          element.appendChild(docLink);\n",
              "        }\n",
              "      </script>\n",
              "    </div>\n",
              "  </div>\n",
              "  "
            ]
          },
          "metadata": {},
          "execution_count": 34
        }
      ],
      "source": [
        "url=\"https://api.census.gov/data/2021/acs/acs1?get=NAME,B23025_001E,B23025_007E,B23025_002E&for=congressional%20district:*&in=state:*\"\n",
        "response = urlopen(url)\n",
        "data_json = json.loads(response.read())\n",
        "data_json.pop(0)\n",
        "cols = ['District Name','Total Households','Not in labor force', 'In labor force', 'State code', 'district number']\n",
        "acs_df = pd.DataFrame(data_json, columns = cols)\n",
        "acs_df[['District', 'State']] = acs_df['District Name'].str.split(',', expand=True)\n",
        "acs_df['district number'] = pd.to_numeric(acs_df['district number'])\n",
        "acs_df['State'] = acs_df['State'].str.strip()\n",
        "acs_df = acs_df[['Total Households', 'Not in labor force', 'In labor force', 'district number', 'State']]\n",
        "acs_df.head()"
      ]
    },
    {
      "cell_type": "code",
      "execution_count": null,
      "id": "9857da1a",
      "metadata": {
        "id": "9857da1a",
        "outputId": "29448c71-cf20-47e7-9efe-025f49454136",
        "colab": {
          "base_uri": "https://localhost:8080/",
          "height": 206
        }
      },
      "outputs": [
        {
          "output_type": "execute_result",
          "data": {
            "text/plain": [
              "   Total Households  Not in labor force  In labor force  district number  \\\n",
              "0            589171              225060          364111               10   \n",
              "1            624753              265753          359000                4   \n",
              "2            541190              215463          325727               14   \n",
              "3            595469              270347          325122                1   \n",
              "4            591680              254348          337332                3   \n",
              "\n",
              "         State  % of households not in labor force  \\\n",
              "0     Michigan                           38.199436   \n",
              "1  Mississippi                           42.537291   \n",
              "2     Michigan                           39.812820   \n",
              "3     Michigan                           45.400684   \n",
              "4  Mississippi                           42.987426   \n",
              "\n",
              "   % of households in labor force  \n",
              "0                       61.800564  \n",
              "1                       57.462709  \n",
              "2                       60.187180  \n",
              "3                       54.599316  \n",
              "4                       57.012574  "
            ],
            "text/html": [
              "\n",
              "  <div id=\"df-93f78654-6bae-4fe0-881a-d8f217543311\">\n",
              "    <div class=\"colab-df-container\">\n",
              "      <div>\n",
              "<style scoped>\n",
              "    .dataframe tbody tr th:only-of-type {\n",
              "        vertical-align: middle;\n",
              "    }\n",
              "\n",
              "    .dataframe tbody tr th {\n",
              "        vertical-align: top;\n",
              "    }\n",
              "\n",
              "    .dataframe thead th {\n",
              "        text-align: right;\n",
              "    }\n",
              "</style>\n",
              "<table border=\"1\" class=\"dataframe\">\n",
              "  <thead>\n",
              "    <tr style=\"text-align: right;\">\n",
              "      <th></th>\n",
              "      <th>Total Households</th>\n",
              "      <th>Not in labor force</th>\n",
              "      <th>In labor force</th>\n",
              "      <th>district number</th>\n",
              "      <th>State</th>\n",
              "      <th>% of households not in labor force</th>\n",
              "      <th>% of households in labor force</th>\n",
              "    </tr>\n",
              "  </thead>\n",
              "  <tbody>\n",
              "    <tr>\n",
              "      <th>0</th>\n",
              "      <td>589171</td>\n",
              "      <td>225060</td>\n",
              "      <td>364111</td>\n",
              "      <td>10</td>\n",
              "      <td>Michigan</td>\n",
              "      <td>38.199436</td>\n",
              "      <td>61.800564</td>\n",
              "    </tr>\n",
              "    <tr>\n",
              "      <th>1</th>\n",
              "      <td>624753</td>\n",
              "      <td>265753</td>\n",
              "      <td>359000</td>\n",
              "      <td>4</td>\n",
              "      <td>Mississippi</td>\n",
              "      <td>42.537291</td>\n",
              "      <td>57.462709</td>\n",
              "    </tr>\n",
              "    <tr>\n",
              "      <th>2</th>\n",
              "      <td>541190</td>\n",
              "      <td>215463</td>\n",
              "      <td>325727</td>\n",
              "      <td>14</td>\n",
              "      <td>Michigan</td>\n",
              "      <td>39.812820</td>\n",
              "      <td>60.187180</td>\n",
              "    </tr>\n",
              "    <tr>\n",
              "      <th>3</th>\n",
              "      <td>595469</td>\n",
              "      <td>270347</td>\n",
              "      <td>325122</td>\n",
              "      <td>1</td>\n",
              "      <td>Michigan</td>\n",
              "      <td>45.400684</td>\n",
              "      <td>54.599316</td>\n",
              "    </tr>\n",
              "    <tr>\n",
              "      <th>4</th>\n",
              "      <td>591680</td>\n",
              "      <td>254348</td>\n",
              "      <td>337332</td>\n",
              "      <td>3</td>\n",
              "      <td>Mississippi</td>\n",
              "      <td>42.987426</td>\n",
              "      <td>57.012574</td>\n",
              "    </tr>\n",
              "  </tbody>\n",
              "</table>\n",
              "</div>\n",
              "      <button class=\"colab-df-convert\" onclick=\"convertToInteractive('df-93f78654-6bae-4fe0-881a-d8f217543311')\"\n",
              "              title=\"Convert this dataframe to an interactive table.\"\n",
              "              style=\"display:none;\">\n",
              "        \n",
              "  <svg xmlns=\"http://www.w3.org/2000/svg\" height=\"24px\"viewBox=\"0 0 24 24\"\n",
              "       width=\"24px\">\n",
              "    <path d=\"M0 0h24v24H0V0z\" fill=\"none\"/>\n",
              "    <path d=\"M18.56 5.44l.94 2.06.94-2.06 2.06-.94-2.06-.94-.94-2.06-.94 2.06-2.06.94zm-11 1L8.5 8.5l.94-2.06 2.06-.94-2.06-.94L8.5 2.5l-.94 2.06-2.06.94zm10 10l.94 2.06.94-2.06 2.06-.94-2.06-.94-.94-2.06-.94 2.06-2.06.94z\"/><path d=\"M17.41 7.96l-1.37-1.37c-.4-.4-.92-.59-1.43-.59-.52 0-1.04.2-1.43.59L10.3 9.45l-7.72 7.72c-.78.78-.78 2.05 0 2.83L4 21.41c.39.39.9.59 1.41.59.51 0 1.02-.2 1.41-.59l7.78-7.78 2.81-2.81c.8-.78.8-2.07 0-2.86zM5.41 20L4 18.59l7.72-7.72 1.47 1.35L5.41 20z\"/>\n",
              "  </svg>\n",
              "      </button>\n",
              "      \n",
              "  <style>\n",
              "    .colab-df-container {\n",
              "      display:flex;\n",
              "      flex-wrap:wrap;\n",
              "      gap: 12px;\n",
              "    }\n",
              "\n",
              "    .colab-df-convert {\n",
              "      background-color: #E8F0FE;\n",
              "      border: none;\n",
              "      border-radius: 50%;\n",
              "      cursor: pointer;\n",
              "      display: none;\n",
              "      fill: #1967D2;\n",
              "      height: 32px;\n",
              "      padding: 0 0 0 0;\n",
              "      width: 32px;\n",
              "    }\n",
              "\n",
              "    .colab-df-convert:hover {\n",
              "      background-color: #E2EBFA;\n",
              "      box-shadow: 0px 1px 2px rgba(60, 64, 67, 0.3), 0px 1px 3px 1px rgba(60, 64, 67, 0.15);\n",
              "      fill: #174EA6;\n",
              "    }\n",
              "\n",
              "    [theme=dark] .colab-df-convert {\n",
              "      background-color: #3B4455;\n",
              "      fill: #D2E3FC;\n",
              "    }\n",
              "\n",
              "    [theme=dark] .colab-df-convert:hover {\n",
              "      background-color: #434B5C;\n",
              "      box-shadow: 0px 1px 3px 1px rgba(0, 0, 0, 0.15);\n",
              "      filter: drop-shadow(0px 1px 2px rgba(0, 0, 0, 0.3));\n",
              "      fill: #FFFFFF;\n",
              "    }\n",
              "  </style>\n",
              "\n",
              "      <script>\n",
              "        const buttonEl =\n",
              "          document.querySelector('#df-93f78654-6bae-4fe0-881a-d8f217543311 button.colab-df-convert');\n",
              "        buttonEl.style.display =\n",
              "          google.colab.kernel.accessAllowed ? 'block' : 'none';\n",
              "\n",
              "        async function convertToInteractive(key) {\n",
              "          const element = document.querySelector('#df-93f78654-6bae-4fe0-881a-d8f217543311');\n",
              "          const dataTable =\n",
              "            await google.colab.kernel.invokeFunction('convertToInteractive',\n",
              "                                                     [key], {});\n",
              "          if (!dataTable) return;\n",
              "\n",
              "          const docLinkHtml = 'Like what you see? Visit the ' +\n",
              "            '<a target=\"_blank\" href=https://colab.research.google.com/notebooks/data_table.ipynb>data table notebook</a>'\n",
              "            + ' to learn more about interactive tables.';\n",
              "          element.innerHTML = '';\n",
              "          dataTable['output_type'] = 'display_data';\n",
              "          await google.colab.output.renderOutput(dataTable, element);\n",
              "          const docLink = document.createElement('div');\n",
              "          docLink.innerHTML = docLinkHtml;\n",
              "          element.appendChild(docLink);\n",
              "        }\n",
              "      </script>\n",
              "    </div>\n",
              "  </div>\n",
              "  "
            ]
          },
          "metadata": {},
          "execution_count": 35
        }
      ],
      "source": [
        "# Convert the number columns into number data types so we can math on them\n",
        "acs_df[\"Total Households\"] = pd.to_numeric(acs_df[\"Total Households\"])\n",
        "acs_df[\"Not in labor force\"] = pd.to_numeric(acs_df[\"Not in labor force\"])\n",
        "acs_df['In labor force'] = pd.to_numeric(acs_df['In labor force'])\n",
        "\n",
        "acs_df['% of households not in labor force'] = (100*acs_df['Not in labor force'])/acs_df['Total Households']\n",
        "acs_df['% of households in labor force'] = (100*acs_df['In labor force'])/acs_df['Total Households']\n",
        "acs_df.head()"
      ]
    },
    {
      "cell_type": "markdown",
      "id": "831783e3",
      "metadata": {
        "id": "831783e3"
      },
      "source": [
        "### Party affiliation data"
      ]
    },
    {
      "cell_type": "code",
      "execution_count": null,
      "id": "1d5b3ef8",
      "metadata": {
        "id": "1d5b3ef8",
        "outputId": "0905ddf5-04be-43c2-e7dc-18f1e0a469de",
        "colab": {
          "base_uri": "https://localhost:8080/",
          "height": 206
        }
      },
      "outputs": [
        {
          "output_type": "execute_result",
          "data": {
            "text/plain": [
              "            State Party  district number\n",
              "0       Louisiana     R                5\n",
              "1  North Carolina     D               12\n",
              "2         Alabama     R                4\n",
              "3      California     D               31\n",
              "4         Georgia     R               12"
            ],
            "text/html": [
              "\n",
              "  <div id=\"df-49505b15-65db-40b5-b330-5fb1ddac4744\">\n",
              "    <div class=\"colab-df-container\">\n",
              "      <div>\n",
              "<style scoped>\n",
              "    .dataframe tbody tr th:only-of-type {\n",
              "        vertical-align: middle;\n",
              "    }\n",
              "\n",
              "    .dataframe tbody tr th {\n",
              "        vertical-align: top;\n",
              "    }\n",
              "\n",
              "    .dataframe thead th {\n",
              "        text-align: right;\n",
              "    }\n",
              "</style>\n",
              "<table border=\"1\" class=\"dataframe\">\n",
              "  <thead>\n",
              "    <tr style=\"text-align: right;\">\n",
              "      <th></th>\n",
              "      <th>State</th>\n",
              "      <th>Party</th>\n",
              "      <th>district number</th>\n",
              "    </tr>\n",
              "  </thead>\n",
              "  <tbody>\n",
              "    <tr>\n",
              "      <th>0</th>\n",
              "      <td>Louisiana</td>\n",
              "      <td>R</td>\n",
              "      <td>5</td>\n",
              "    </tr>\n",
              "    <tr>\n",
              "      <th>1</th>\n",
              "      <td>North Carolina</td>\n",
              "      <td>D</td>\n",
              "      <td>12</td>\n",
              "    </tr>\n",
              "    <tr>\n",
              "      <th>2</th>\n",
              "      <td>Alabama</td>\n",
              "      <td>R</td>\n",
              "      <td>4</td>\n",
              "    </tr>\n",
              "    <tr>\n",
              "      <th>3</th>\n",
              "      <td>California</td>\n",
              "      <td>D</td>\n",
              "      <td>31</td>\n",
              "    </tr>\n",
              "    <tr>\n",
              "      <th>4</th>\n",
              "      <td>Georgia</td>\n",
              "      <td>R</td>\n",
              "      <td>12</td>\n",
              "    </tr>\n",
              "  </tbody>\n",
              "</table>\n",
              "</div>\n",
              "      <button class=\"colab-df-convert\" onclick=\"convertToInteractive('df-49505b15-65db-40b5-b330-5fb1ddac4744')\"\n",
              "              title=\"Convert this dataframe to an interactive table.\"\n",
              "              style=\"display:none;\">\n",
              "        \n",
              "  <svg xmlns=\"http://www.w3.org/2000/svg\" height=\"24px\"viewBox=\"0 0 24 24\"\n",
              "       width=\"24px\">\n",
              "    <path d=\"M0 0h24v24H0V0z\" fill=\"none\"/>\n",
              "    <path d=\"M18.56 5.44l.94 2.06.94-2.06 2.06-.94-2.06-.94-.94-2.06-.94 2.06-2.06.94zm-11 1L8.5 8.5l.94-2.06 2.06-.94-2.06-.94L8.5 2.5l-.94 2.06-2.06.94zm10 10l.94 2.06.94-2.06 2.06-.94-2.06-.94-.94-2.06-.94 2.06-2.06.94z\"/><path d=\"M17.41 7.96l-1.37-1.37c-.4-.4-.92-.59-1.43-.59-.52 0-1.04.2-1.43.59L10.3 9.45l-7.72 7.72c-.78.78-.78 2.05 0 2.83L4 21.41c.39.39.9.59 1.41.59.51 0 1.02-.2 1.41-.59l7.78-7.78 2.81-2.81c.8-.78.8-2.07 0-2.86zM5.41 20L4 18.59l7.72-7.72 1.47 1.35L5.41 20z\"/>\n",
              "  </svg>\n",
              "      </button>\n",
              "      \n",
              "  <style>\n",
              "    .colab-df-container {\n",
              "      display:flex;\n",
              "      flex-wrap:wrap;\n",
              "      gap: 12px;\n",
              "    }\n",
              "\n",
              "    .colab-df-convert {\n",
              "      background-color: #E8F0FE;\n",
              "      border: none;\n",
              "      border-radius: 50%;\n",
              "      cursor: pointer;\n",
              "      display: none;\n",
              "      fill: #1967D2;\n",
              "      height: 32px;\n",
              "      padding: 0 0 0 0;\n",
              "      width: 32px;\n",
              "    }\n",
              "\n",
              "    .colab-df-convert:hover {\n",
              "      background-color: #E2EBFA;\n",
              "      box-shadow: 0px 1px 2px rgba(60, 64, 67, 0.3), 0px 1px 3px 1px rgba(60, 64, 67, 0.15);\n",
              "      fill: #174EA6;\n",
              "    }\n",
              "\n",
              "    [theme=dark] .colab-df-convert {\n",
              "      background-color: #3B4455;\n",
              "      fill: #D2E3FC;\n",
              "    }\n",
              "\n",
              "    [theme=dark] .colab-df-convert:hover {\n",
              "      background-color: #434B5C;\n",
              "      box-shadow: 0px 1px 3px 1px rgba(0, 0, 0, 0.15);\n",
              "      filter: drop-shadow(0px 1px 2px rgba(0, 0, 0, 0.3));\n",
              "      fill: #FFFFFF;\n",
              "    }\n",
              "  </style>\n",
              "\n",
              "      <script>\n",
              "        const buttonEl =\n",
              "          document.querySelector('#df-49505b15-65db-40b5-b330-5fb1ddac4744 button.colab-df-convert');\n",
              "        buttonEl.style.display =\n",
              "          google.colab.kernel.accessAllowed ? 'block' : 'none';\n",
              "\n",
              "        async function convertToInteractive(key) {\n",
              "          const element = document.querySelector('#df-49505b15-65db-40b5-b330-5fb1ddac4744');\n",
              "          const dataTable =\n",
              "            await google.colab.kernel.invokeFunction('convertToInteractive',\n",
              "                                                     [key], {});\n",
              "          if (!dataTable) return;\n",
              "\n",
              "          const docLinkHtml = 'Like what you see? Visit the ' +\n",
              "            '<a target=\"_blank\" href=https://colab.research.google.com/notebooks/data_table.ipynb>data table notebook</a>'\n",
              "            + ' to learn more about interactive tables.';\n",
              "          element.innerHTML = '';\n",
              "          dataTable['output_type'] = 'display_data';\n",
              "          await google.colab.output.renderOutput(dataTable, element);\n",
              "          const docLink = document.createElement('div');\n",
              "          docLink.innerHTML = docLinkHtml;\n",
              "          element.appendChild(docLink);\n",
              "        }\n",
              "      </script>\n",
              "    </div>\n",
              "  </div>\n",
              "  "
            ]
          },
          "metadata": {},
          "execution_count": 36
        }
      ],
      "source": [
        "# read from the congressional data and put into a pandas dataframe\n",
        "party_df = pd.read_csv(\"http://goodcsv.com/wp-content/uploads/2020/08/us-house-of-representatives-2020.csv\", encoding = \"ISO-8859-1\")\n",
        "\n",
        "# extract the district number from the data (it was in the format of 5th and we want that to just be 5) using a regular expression.\n",
        "party_df['district number'] = party_df['District/Position'].str.extract('(\\d+)')\n",
        "party_df['district number'] = party_df['district number'].fillna(0)\n",
        "party_df['district number'] = pd.to_numeric(party_df['district number'])\n",
        "party_df['State'] = party_df['State/Territory']\n",
        "party_df['State'] = party_df['State'].str.strip()\n",
        "party_df['Party'] = party_df['Party'].str.strip() # remove extraneous whitespace\n",
        "\n",
        "# Let's just keep the columns we need\n",
        "party_df = party_df[['State', 'Party', \"district number\"]]\n",
        "\n",
        "party_df.head(5)"
      ]
    },
    {
      "cell_type": "code",
      "execution_count": null,
      "id": "1b8f97f4",
      "metadata": {
        "id": "1b8f97f4",
        "outputId": "044a3db5-98e8-4f28-b8bf-dc68d9e98bac",
        "colab": {
          "base_uri": "https://localhost:8080/"
        }
      },
      "outputs": [
        {
          "output_type": "execute_result",
          "data": {
            "text/plain": [
              "California                  53\n",
              "Texas                       36\n",
              "New York                    27\n",
              "Florida                     27\n",
              "Pennsylvania                18\n",
              "Illinois                    18\n",
              "Ohio                        16\n",
              "Michigan                    14\n",
              "Georgia                     14\n",
              "North Carolina              13\n",
              "New Jersey                  12\n",
              "Virginia                    11\n",
              "Washington                  10\n",
              "Indiana                      9\n",
              "Arizona                      9\n",
              "Tennessee                    9\n",
              "Massachusetts                9\n",
              "Minnesota                    8\n",
              "Missouri                     8\n",
              "Maryland                     8\n",
              "Wisconsin                    8\n",
              "Colorado                     7\n",
              "Alabama                      7\n",
              "South Carolina               7\n",
              "Louisiana                    6\n",
              "Kentucky                     6\n",
              "Oklahoma                     5\n",
              "Oregon                       5\n",
              "Connecticut                  5\n",
              "Nevada                       4\n",
              "Kansas                       4\n",
              "Arkansas                     4\n",
              "Iowa                         4\n",
              "Mississippi                  4\n",
              "Utah                         4\n",
              "West Virginia                3\n",
              "Nebraska                     3\n",
              "New Mexico                   3\n",
              "New Hampshire                2\n",
              "Maine                        2\n",
              "Rhode Island                 2\n",
              "Idaho                        2\n",
              "Hawaii                       2\n",
              "Montana                      1\n",
              "Puerto Rico                  1\n",
              "Wyoming                      1\n",
              "South Dakota                 1\n",
              "Delaware                     1\n",
              "North Dakota                 1\n",
              "District of Columbia         1\n",
              "Virgin Islands               1\n",
              "American Samoa               1\n",
              "Northern Mariana Islands     1\n",
              "Guam                         1\n",
              "Vermont                      1\n",
              "Alaska                       1\n",
              "Name: State, dtype: int64"
            ]
          },
          "metadata": {},
          "execution_count": 37
        }
      ],
      "source": [
        "party_df['State'].value_counts()"
      ]
    },
    {
      "cell_type": "code",
      "execution_count": null,
      "id": "c827346e",
      "metadata": {
        "id": "c827346e",
        "colab": {
          "base_uri": "https://localhost:8080/"
        },
        "outputId": "be3428a8-1d85-49b9-91f0-8dc139b9a015"
      },
      "outputs": [
        {
          "output_type": "execute_result",
          "data": {
            "text/plain": [
              "California              53\n",
              "Texas                   36\n",
              "Florida                 27\n",
              "New York                27\n",
              "Illinois                18\n",
              "Pennsylvania            18\n",
              "Ohio                    16\n",
              "Georgia                 14\n",
              "Michigan                14\n",
              "North Carolina          13\n",
              "New Jersey              12\n",
              "Virginia                11\n",
              "Washington              10\n",
              "Indiana                  9\n",
              "Massachusetts            9\n",
              "Arizona                  9\n",
              "Tennessee                9\n",
              "Missouri                 8\n",
              "Wisconsin                8\n",
              "Minnesota                8\n",
              "Maryland                 8\n",
              "South Carolina           7\n",
              "Alabama                  7\n",
              "Colorado                 7\n",
              "Kentucky                 6\n",
              "Louisiana                6\n",
              "Connecticut              5\n",
              "Oklahoma                 5\n",
              "Oregon                   5\n",
              "Iowa                     4\n",
              "Kansas                   4\n",
              "Arkansas                 4\n",
              "Mississippi              4\n",
              "Nevada                   4\n",
              "Utah                     4\n",
              "New Mexico               3\n",
              "West Virginia            3\n",
              "Nebraska                 3\n",
              "Rhode Island             2\n",
              "New Hampshire            2\n",
              "Hawaii                   2\n",
              "Idaho                    2\n",
              "Maine                    2\n",
              "South Dakota             1\n",
              "Wyoming                  1\n",
              "Alaska                   1\n",
              "Montana                  1\n",
              "North Dakota             1\n",
              "Vermont                  1\n",
              "Delaware                 1\n",
              "Puerto Rico              1\n",
              "District of Columbia     1\n",
              "Name: State, dtype: int64"
            ]
          },
          "metadata": {},
          "execution_count": 38
        }
      ],
      "source": [
        "acs_df['State'].value_counts()"
      ]
    },
    {
      "cell_type": "markdown",
      "id": "a4e3a0a3",
      "metadata": {
        "id": "a4e3a0a3"
      },
      "source": [
        "These match, so okay to join on states..."
      ]
    },
    {
      "cell_type": "markdown",
      "id": "92583b02",
      "metadata": {
        "id": "92583b02"
      },
      "source": [
        "### Merge Party affiliation and labor Force data\n",
        "Merge on State and District number"
      ]
    },
    {
      "cell_type": "code",
      "execution_count": null,
      "id": "0177becf",
      "metadata": {
        "id": "0177becf",
        "outputId": "8167139c-4af6-4dfd-abd0-629b1ae7dac5",
        "colab": {
          "base_uri": "https://localhost:8080/"
        }
      },
      "outputs": [
        {
          "output_type": "execute_result",
          "data": {
            "text/plain": [
              "D    233\n",
              "R    201\n",
              "L      1\n",
              "Name: Party, dtype: int64"
            ]
          },
          "metadata": {},
          "execution_count": 39
        }
      ],
      "source": [
        "merged_df = pd.merge(acs_df, party_df, on=[\"State\", \"district number\"])\n",
        "merged_df['Party'].value_counts()"
      ]
    },
    {
      "cell_type": "code",
      "source": [
        "merged_df.head()"
      ],
      "metadata": {
        "colab": {
          "base_uri": "https://localhost:8080/",
          "height": 250
        },
        "id": "XwifJjDGTNPy",
        "outputId": "226ea46f-246d-4848-8248-e28b833db2b8"
      },
      "id": "XwifJjDGTNPy",
      "execution_count": null,
      "outputs": [
        {
          "output_type": "execute_result",
          "data": {
            "text/plain": [
              "   Total Households  Not in labor force  In labor force  district number  \\\n",
              "0            589171              225060          364111               10   \n",
              "1            624753              265753          359000                4   \n",
              "2            541190              215463          325727               14   \n",
              "3            595469              270347          325122                1   \n",
              "4            591680              254348          337332                3   \n",
              "\n",
              "         State  % of households not in labor force  \\\n",
              "0     Michigan                           38.199436   \n",
              "1  Mississippi                           42.537291   \n",
              "2     Michigan                           39.812820   \n",
              "3     Michigan                           45.400684   \n",
              "4  Mississippi                           42.987426   \n",
              "\n",
              "   % of households in labor force Party  \n",
              "0                       61.800564     R  \n",
              "1                       57.462709     R  \n",
              "2                       60.187180     D  \n",
              "3                       54.599316     R  \n",
              "4                       57.012574     R  "
            ],
            "text/html": [
              "\n",
              "  <div id=\"df-0b1fd76f-0f6a-4912-90bc-8fe7be122c80\">\n",
              "    <div class=\"colab-df-container\">\n",
              "      <div>\n",
              "<style scoped>\n",
              "    .dataframe tbody tr th:only-of-type {\n",
              "        vertical-align: middle;\n",
              "    }\n",
              "\n",
              "    .dataframe tbody tr th {\n",
              "        vertical-align: top;\n",
              "    }\n",
              "\n",
              "    .dataframe thead th {\n",
              "        text-align: right;\n",
              "    }\n",
              "</style>\n",
              "<table border=\"1\" class=\"dataframe\">\n",
              "  <thead>\n",
              "    <tr style=\"text-align: right;\">\n",
              "      <th></th>\n",
              "      <th>Total Households</th>\n",
              "      <th>Not in labor force</th>\n",
              "      <th>In labor force</th>\n",
              "      <th>district number</th>\n",
              "      <th>State</th>\n",
              "      <th>% of households not in labor force</th>\n",
              "      <th>% of households in labor force</th>\n",
              "      <th>Party</th>\n",
              "    </tr>\n",
              "  </thead>\n",
              "  <tbody>\n",
              "    <tr>\n",
              "      <th>0</th>\n",
              "      <td>589171</td>\n",
              "      <td>225060</td>\n",
              "      <td>364111</td>\n",
              "      <td>10</td>\n",
              "      <td>Michigan</td>\n",
              "      <td>38.199436</td>\n",
              "      <td>61.800564</td>\n",
              "      <td>R</td>\n",
              "    </tr>\n",
              "    <tr>\n",
              "      <th>1</th>\n",
              "      <td>624753</td>\n",
              "      <td>265753</td>\n",
              "      <td>359000</td>\n",
              "      <td>4</td>\n",
              "      <td>Mississippi</td>\n",
              "      <td>42.537291</td>\n",
              "      <td>57.462709</td>\n",
              "      <td>R</td>\n",
              "    </tr>\n",
              "    <tr>\n",
              "      <th>2</th>\n",
              "      <td>541190</td>\n",
              "      <td>215463</td>\n",
              "      <td>325727</td>\n",
              "      <td>14</td>\n",
              "      <td>Michigan</td>\n",
              "      <td>39.812820</td>\n",
              "      <td>60.187180</td>\n",
              "      <td>D</td>\n",
              "    </tr>\n",
              "    <tr>\n",
              "      <th>3</th>\n",
              "      <td>595469</td>\n",
              "      <td>270347</td>\n",
              "      <td>325122</td>\n",
              "      <td>1</td>\n",
              "      <td>Michigan</td>\n",
              "      <td>45.400684</td>\n",
              "      <td>54.599316</td>\n",
              "      <td>R</td>\n",
              "    </tr>\n",
              "    <tr>\n",
              "      <th>4</th>\n",
              "      <td>591680</td>\n",
              "      <td>254348</td>\n",
              "      <td>337332</td>\n",
              "      <td>3</td>\n",
              "      <td>Mississippi</td>\n",
              "      <td>42.987426</td>\n",
              "      <td>57.012574</td>\n",
              "      <td>R</td>\n",
              "    </tr>\n",
              "  </tbody>\n",
              "</table>\n",
              "</div>\n",
              "      <button class=\"colab-df-convert\" onclick=\"convertToInteractive('df-0b1fd76f-0f6a-4912-90bc-8fe7be122c80')\"\n",
              "              title=\"Convert this dataframe to an interactive table.\"\n",
              "              style=\"display:none;\">\n",
              "        \n",
              "  <svg xmlns=\"http://www.w3.org/2000/svg\" height=\"24px\"viewBox=\"0 0 24 24\"\n",
              "       width=\"24px\">\n",
              "    <path d=\"M0 0h24v24H0V0z\" fill=\"none\"/>\n",
              "    <path d=\"M18.56 5.44l.94 2.06.94-2.06 2.06-.94-2.06-.94-.94-2.06-.94 2.06-2.06.94zm-11 1L8.5 8.5l.94-2.06 2.06-.94-2.06-.94L8.5 2.5l-.94 2.06-2.06.94zm10 10l.94 2.06.94-2.06 2.06-.94-2.06-.94-.94-2.06-.94 2.06-2.06.94z\"/><path d=\"M17.41 7.96l-1.37-1.37c-.4-.4-.92-.59-1.43-.59-.52 0-1.04.2-1.43.59L10.3 9.45l-7.72 7.72c-.78.78-.78 2.05 0 2.83L4 21.41c.39.39.9.59 1.41.59.51 0 1.02-.2 1.41-.59l7.78-7.78 2.81-2.81c.8-.78.8-2.07 0-2.86zM5.41 20L4 18.59l7.72-7.72 1.47 1.35L5.41 20z\"/>\n",
              "  </svg>\n",
              "      </button>\n",
              "      \n",
              "  <style>\n",
              "    .colab-df-container {\n",
              "      display:flex;\n",
              "      flex-wrap:wrap;\n",
              "      gap: 12px;\n",
              "    }\n",
              "\n",
              "    .colab-df-convert {\n",
              "      background-color: #E8F0FE;\n",
              "      border: none;\n",
              "      border-radius: 50%;\n",
              "      cursor: pointer;\n",
              "      display: none;\n",
              "      fill: #1967D2;\n",
              "      height: 32px;\n",
              "      padding: 0 0 0 0;\n",
              "      width: 32px;\n",
              "    }\n",
              "\n",
              "    .colab-df-convert:hover {\n",
              "      background-color: #E2EBFA;\n",
              "      box-shadow: 0px 1px 2px rgba(60, 64, 67, 0.3), 0px 1px 3px 1px rgba(60, 64, 67, 0.15);\n",
              "      fill: #174EA6;\n",
              "    }\n",
              "\n",
              "    [theme=dark] .colab-df-convert {\n",
              "      background-color: #3B4455;\n",
              "      fill: #D2E3FC;\n",
              "    }\n",
              "\n",
              "    [theme=dark] .colab-df-convert:hover {\n",
              "      background-color: #434B5C;\n",
              "      box-shadow: 0px 1px 3px 1px rgba(0, 0, 0, 0.15);\n",
              "      filter: drop-shadow(0px 1px 2px rgba(0, 0, 0, 0.3));\n",
              "      fill: #FFFFFF;\n",
              "    }\n",
              "  </style>\n",
              "\n",
              "      <script>\n",
              "        const buttonEl =\n",
              "          document.querySelector('#df-0b1fd76f-0f6a-4912-90bc-8fe7be122c80 button.colab-df-convert');\n",
              "        buttonEl.style.display =\n",
              "          google.colab.kernel.accessAllowed ? 'block' : 'none';\n",
              "\n",
              "        async function convertToInteractive(key) {\n",
              "          const element = document.querySelector('#df-0b1fd76f-0f6a-4912-90bc-8fe7be122c80');\n",
              "          const dataTable =\n",
              "            await google.colab.kernel.invokeFunction('convertToInteractive',\n",
              "                                                     [key], {});\n",
              "          if (!dataTable) return;\n",
              "\n",
              "          const docLinkHtml = 'Like what you see? Visit the ' +\n",
              "            '<a target=\"_blank\" href=https://colab.research.google.com/notebooks/data_table.ipynb>data table notebook</a>'\n",
              "            + ' to learn more about interactive tables.';\n",
              "          element.innerHTML = '';\n",
              "          dataTable['output_type'] = 'display_data';\n",
              "          await google.colab.output.renderOutput(dataTable, element);\n",
              "          const docLink = document.createElement('div');\n",
              "          docLink.innerHTML = docLinkHtml;\n",
              "          element.appendChild(docLink);\n",
              "        }\n",
              "      </script>\n",
              "    </div>\n",
              "  </div>\n",
              "  "
            ]
          },
          "metadata": {},
          "execution_count": 40
        }
      ]
    },
    {
      "cell_type": "markdown",
      "source": [
        "### Aggregate on state level"
      ],
      "metadata": {
        "id": "xmsUvjcmVQ4y"
      },
      "id": "xmsUvjcmVQ4y"
    },
    {
      "cell_type": "code",
      "source": [
        "state_level = merged_df.groupby(by = \"State\")[\"% of households not in labor force\"].mean()\n",
        "len(state_level.index)\n",
        "\n",
        "# state Level aggregation on the raw variables\n",
        "\n"
      ],
      "metadata": {
        "colab": {
          "base_uri": "https://localhost:8080/"
        },
        "id": "25QWNJfbUYta",
        "outputId": "d0c8d366-8677-4621-be50-c25ff784b6c5"
      },
      "id": "25QWNJfbUYta",
      "execution_count": null,
      "outputs": [
        {
          "output_type": "execute_result",
          "data": {
            "text/plain": [
              "50"
            ]
          },
          "metadata": {},
          "execution_count": 41
        }
      ]
    },
    {
      "cell_type": "code",
      "source": [
        "state_level"
      ],
      "metadata": {
        "colab": {
          "base_uri": "https://localhost:8080/"
        },
        "id": "CYR4VOrFVFSp",
        "outputId": "aa0c3cd3-dfe5-49e3-8d90-a03328f673ba"
      },
      "id": "CYR4VOrFVFSp",
      "execution_count": null,
      "outputs": [
        {
          "output_type": "execute_result",
          "data": {
            "text/plain": [
              "State\n",
              "Alabama           42.340461\n",
              "Alaska            34.077666\n",
              "Arizona           39.377513\n",
              "Arkansas          41.729490\n",
              "California        36.696296\n",
              "Colorado          32.021628\n",
              "Connecticut       34.371864\n",
              "Delaware          39.943747\n",
              "Florida           40.687082\n",
              "Georgia           37.270981\n",
              "Hawaii            36.615085\n",
              "Idaho             36.722103\n",
              "Illinois          35.572648\n",
              "Indiana           36.607735\n",
              "Iowa              33.977007\n",
              "Kansas            34.420930\n",
              "Kentucky          41.450213\n",
              "Louisiana         41.660214\n",
              "Maine             38.772835\n",
              "Maryland          33.494109\n",
              "Massachusetts     33.290860\n",
              "Michigan          39.203448\n",
              "Minnesota         31.722465\n",
              "Mississippi       43.494432\n",
              "Missouri          37.296525\n",
              "Montana           38.155507\n",
              "Nebraska          31.551366\n",
              "Nevada            37.176761\n",
              "New Hampshire     33.376306\n",
              "New Jersey        34.393660\n",
              "New Mexico        43.104729\n",
              "New York          37.502106\n",
              "North Carolina    38.028973\n",
              "North Dakota      31.914611\n",
              "Ohio              37.471400\n",
              "Oklahoma          39.124246\n",
              "Oregon            38.437608\n",
              "Pennsylvania      37.666213\n",
              "Rhode Island      34.849653\n",
              "South Carolina    40.485697\n",
              "South Dakota      33.379817\n",
              "Tennessee         38.791642\n",
              "Texas             35.564753\n",
              "Utah              31.379193\n",
              "Vermont           35.689271\n",
              "Virginia          34.924268\n",
              "Washington        36.250751\n",
              "West Virginia     47.550614\n",
              "Wisconsin         35.001478\n",
              "Wyoming           34.729497\n",
              "Name: % of households not in labor force, dtype: float64"
            ]
          },
          "metadata": {},
          "execution_count": 42
        }
      ]
    },
    {
      "cell_type": "code",
      "source": [
        "max(state_level)"
      ],
      "metadata": {
        "colab": {
          "base_uri": "https://localhost:8080/"
        },
        "id": "f81fxOjGY_iH",
        "outputId": "101d9c47-ae92-4d44-860a-4db00872aee7"
      },
      "id": "f81fxOjGY_iH",
      "execution_count": null,
      "outputs": [
        {
          "output_type": "execute_result",
          "data": {
            "text/plain": [
              "47.550614129074184"
            ]
          },
          "metadata": {},
          "execution_count": 43
        }
      ]
    },
    {
      "cell_type": "code",
      "source": [
        "#next merge with DF"
      ],
      "metadata": {
        "id": "NCX9070kWmDk"
      },
      "id": "NCX9070kWmDk",
      "execution_count": null,
      "outputs": []
    },
    {
      "cell_type": "markdown",
      "source": [
        "#Analysis and Hypothesis Testing"
      ],
      "metadata": {
        "id": "7YpRLL0QYAKx"
      },
      "id": "7YpRLL0QYAKx"
    },
    {
      "cell_type": "markdown",
      "source": [
        "## Party Affiliation Map"
      ],
      "metadata": {
        "id": "QtJRref2WDhO"
      },
      "id": "QtJRref2WDhO"
    },
    {
      "cell_type": "code",
      "source": [
        "#abreviations for state names\n",
        "us_state_to_abbrev = {\n",
        "    \"Alabama\": \"AL\",\n",
        "    \"Alaska\": \"AK\",\n",
        "    \"Arizona\": \"AZ\",\n",
        "    \"Arkansas\": \"AR\",\n",
        "    \"California\": \"CA\",\n",
        "    \"Colorado\": \"CO\",\n",
        "    \"Connecticut\": \"CT\",\n",
        "    \"Delaware\": \"DE\",\n",
        "    \"Florida\": \"FL\",\n",
        "    \"Georgia\": \"GA\",\n",
        "    \"Hawaii\": \"HI\",\n",
        "    \"Idaho\": \"ID\",\n",
        "    \"Illinois\": \"IL\",\n",
        "    \"Indiana\": \"IN\",\n",
        "    \"Iowa\": \"IA\",\n",
        "    \"Kansas\": \"KS\",\n",
        "    \"Kentucky\": \"KY\",\n",
        "    \"Louisiana\": \"LA\",\n",
        "    \"Maine\": \"ME\",\n",
        "    \"Maryland\": \"MD\",\n",
        "    \"Massachusetts\": \"MA\",\n",
        "    \"Michigan\": \"MI\",\n",
        "    \"Minnesota\": \"MN\",\n",
        "    \"Mississippi\": \"MS\",\n",
        "    \"Missouri\": \"MO\",\n",
        "    \"Montana\": \"MT\",\n",
        "    \"Nebraska\": \"NE\",\n",
        "    \"Nevada\": \"NV\",\n",
        "    \"New Hampshire\": \"NH\",\n",
        "    \"New Jersey\": \"NJ\",\n",
        "    \"New Mexico\": \"NM\",\n",
        "    \"New York\": \"NY\",\n",
        "    \"North Carolina\": \"NC\",\n",
        "    \"North Dakota\": \"ND\",\n",
        "    \"Ohio\": \"OH\",\n",
        "    \"Oklahoma\": \"OK\",\n",
        "    \"Oregon\": \"OR\",\n",
        "    \"Pennsylvania\": \"PA\",\n",
        "    \"Rhode Island\": \"RI\",\n",
        "    \"South Carolina\": \"SC\",\n",
        "    \"South Dakota\": \"SD\",\n",
        "    \"Tennessee\": \"TN\",\n",
        "    \"Texas\": \"TX\",\n",
        "    \"Utah\": \"UT\",\n",
        "    \"Vermont\": \"VT\",\n",
        "    \"Virginia\": \"VA\",\n",
        "    \"Washington\": \"WA\",\n",
        "    \"West Virginia\": \"WV\",\n",
        "    \"Wisconsin\": \"WI\",\n",
        "    \"Wyoming\": \"WY\",\n",
        "    \"District of Columbia\": \"DC\",\n",
        "    \"American Samoa\": \"AS\",\n",
        "    \"Guam\": \"GU\",\n",
        "    \"Northern Mariana Islands\": \"MP\",\n",
        "    \"Puerto Rico\": \"PR\",\n",
        "    \"United States Minor Outlying Islands\": \"UM\",\n",
        "    \"U.S. Virgin Islands\": \"VI\",\n",
        "}"
      ],
      "metadata": {
        "id": "rNQPiCVAq1fa"
      },
      "id": "rNQPiCVAq1fa",
      "execution_count": null,
      "outputs": []
    },
    {
      "cell_type": "code",
      "source": [
        "\n",
        "# State Level data frame\n",
        "\n",
        "df_state_1 = pd.pivot_table(merged_df, index=\"State\", values=(['Total Households', 'Not in labor force', 'In labor force']),aggfunc=sum)\n",
        "\n",
        "df_state_2 = pd.pivot_table(merged_df, index=\"State\", columns = (['Party']),aggfunc='count')\n",
        "df_state_2 = df_state_2[['Total Households', 'Not in labor force']]\n",
        "df_state_2.columns = df_state_2.columns.map('_'.join)\n",
        "col = df_state_2.columns\n",
        "df_state_2[col] = df_state_2[col].apply(pd.to_numeric, errors='coerce')\n",
        "df_state_2 = df_state_2.fillna(0)\n",
        "df_state_2['R_Ratio'] = df_state_2['Total Households_R']/(df_state_2['Total Households_D']+df_state_2['Total Households_L']+df_state_2['Total Households_R'])\n",
        "df_state_2 = df_state_2[['R_Ratio']]\n",
        "\n",
        "df_state = pd.merge(df_state_1, df_state_2, on=[\"State\"])\n",
        "df_state['Not in Labor Force Rate']= (100*df_state['Not in labor force']/df_state['Total Households'])\n",
        "df_state.reset_index(inplace=True)\n",
        "\n",
        "## New State Level Geo Map\n",
        "\n",
        "df_state['State_Code'] = df_state.State.map(us_state_to_abbrev)\n",
        "\n",
        "fig_e1 = px.choropleth(df_state, locations='State_Code', locationmode=\"USA-states\", scope=\"usa\", color='Not in Labor Force Rate',color_continuous_scale=\"viridis\")\n",
        "fig_e1.show()\n",
        "\n",
        "\n",
        "\n"
      ],
      "metadata": {
        "colab": {
          "base_uri": "https://localhost:8080/",
          "height": 542
        },
        "id": "3XmSysPIk1Q8",
        "outputId": "5f4535ef-80fb-4079-a748-bd28f1d9d939"
      },
      "id": "3XmSysPIk1Q8",
      "execution_count": null,
      "outputs": [
        {
          "output_type": "display_data",
          "data": {
            "text/html": [
              "<html>\n",
              "<head><meta charset=\"utf-8\" /></head>\n",
              "<body>\n",
              "    <div>            <script src=\"https://cdnjs.cloudflare.com/ajax/libs/mathjax/2.7.5/MathJax.js?config=TeX-AMS-MML_SVG\"></script><script type=\"text/javascript\">if (window.MathJax) {MathJax.Hub.Config({SVG: {font: \"STIX-Web\"}});}</script>                <script type=\"text/javascript\">window.PlotlyConfig = {MathJaxConfig: 'local'};</script>\n",
              "        <script src=\"https://cdn.plot.ly/plotly-2.8.3.min.js\"></script>                <div id=\"ac606f3d-504b-4a65-be00-bcf8ac73bc6e\" class=\"plotly-graph-div\" style=\"height:525px; width:100%;\"></div>            <script type=\"text/javascript\">                                    window.PLOTLYENV=window.PLOTLYENV || {};                                    if (document.getElementById(\"ac606f3d-504b-4a65-be00-bcf8ac73bc6e\")) {                    Plotly.newPlot(                        \"ac606f3d-504b-4a65-be00-bcf8ac73bc6e\",                        [{\"coloraxis\":\"coloraxis\",\"geo\":\"geo\",\"hovertemplate\":\"State_Code=%{location}<br>Not in Labor Force Rate=%{z}<extra></extra>\",\"locationmode\":\"USA-states\",\"locations\":[\"AL\",\"AK\",\"AZ\",\"AR\",\"CA\",\"CO\",\"CT\",\"DE\",\"FL\",\"GA\",\"HI\",\"ID\",\"IL\",\"IN\",\"IA\",\"KS\",\"KY\",\"LA\",\"ME\",\"MD\",\"MA\",\"MI\",\"MN\",\"MS\",\"MO\",\"MT\",\"NE\",\"NV\",\"NH\",\"NJ\",\"NM\",\"NY\",\"NC\",\"ND\",\"OH\",\"OK\",\"OR\",\"PA\",\"RI\",\"SC\",\"SD\",\"TN\",\"TX\",\"UT\",\"VT\",\"VA\",\"WA\",\"WV\",\"WI\",\"WY\"],\"name\":\"\",\"z\":[42.285612190103016,34.077666167685614,39.435662207861284,41.43112262399508,36.6443652294868,31.94046721769528,34.367118386007,39.943747042206795,40.85452953165123,37.094769329650774,36.604071273001665,36.8746178276177,35.46245610623653,36.551598875557595,33.90719572247177,34.33636566626889,41.163782246631335,41.4816646915469,38.659979804430044,33.44745788862322,33.24278473802822,39.10688169097904,31.619261302827372,43.350886675197664,37.227464367019095,38.155506894080936,31.365643014249827,37.03889597866944,33.34258103693956,34.375145624638066,43.071451847616764,37.457731748767294,37.80384427143773,31.91461142204043,37.376330833913656,38.96002259297714,38.41605840043877,37.5706447292729,34.85220164356679,40.39031555379673,33.37981662911331,38.757346830207304,35.35218831863908,31.34734380814901,35.689271167425346,34.765521254403914,36.119639704437844,47.36985376137213,34.947015980052484,34.72949729432306],\"type\":\"choropleth\"}],                        {\"template\":{\"data\":{\"bar\":[{\"error_x\":{\"color\":\"#2a3f5f\"},\"error_y\":{\"color\":\"#2a3f5f\"},\"marker\":{\"line\":{\"color\":\"#E5ECF6\",\"width\":0.5},\"pattern\":{\"fillmode\":\"overlay\",\"size\":10,\"solidity\":0.2}},\"type\":\"bar\"}],\"barpolar\":[{\"marker\":{\"line\":{\"color\":\"#E5ECF6\",\"width\":0.5},\"pattern\":{\"fillmode\":\"overlay\",\"size\":10,\"solidity\":0.2}},\"type\":\"barpolar\"}],\"carpet\":[{\"aaxis\":{\"endlinecolor\":\"#2a3f5f\",\"gridcolor\":\"white\",\"linecolor\":\"white\",\"minorgridcolor\":\"white\",\"startlinecolor\":\"#2a3f5f\"},\"baxis\":{\"endlinecolor\":\"#2a3f5f\",\"gridcolor\":\"white\",\"linecolor\":\"white\",\"minorgridcolor\":\"white\",\"startlinecolor\":\"#2a3f5f\"},\"type\":\"carpet\"}],\"choropleth\":[{\"colorbar\":{\"outlinewidth\":0,\"ticks\":\"\"},\"type\":\"choropleth\"}],\"contour\":[{\"colorbar\":{\"outlinewidth\":0,\"ticks\":\"\"},\"colorscale\":[[0.0,\"#0d0887\"],[0.1111111111111111,\"#46039f\"],[0.2222222222222222,\"#7201a8\"],[0.3333333333333333,\"#9c179e\"],[0.4444444444444444,\"#bd3786\"],[0.5555555555555556,\"#d8576b\"],[0.6666666666666666,\"#ed7953\"],[0.7777777777777778,\"#fb9f3a\"],[0.8888888888888888,\"#fdca26\"],[1.0,\"#f0f921\"]],\"type\":\"contour\"}],\"contourcarpet\":[{\"colorbar\":{\"outlinewidth\":0,\"ticks\":\"\"},\"type\":\"contourcarpet\"}],\"heatmap\":[{\"colorbar\":{\"outlinewidth\":0,\"ticks\":\"\"},\"colorscale\":[[0.0,\"#0d0887\"],[0.1111111111111111,\"#46039f\"],[0.2222222222222222,\"#7201a8\"],[0.3333333333333333,\"#9c179e\"],[0.4444444444444444,\"#bd3786\"],[0.5555555555555556,\"#d8576b\"],[0.6666666666666666,\"#ed7953\"],[0.7777777777777778,\"#fb9f3a\"],[0.8888888888888888,\"#fdca26\"],[1.0,\"#f0f921\"]],\"type\":\"heatmap\"}],\"heatmapgl\":[{\"colorbar\":{\"outlinewidth\":0,\"ticks\":\"\"},\"colorscale\":[[0.0,\"#0d0887\"],[0.1111111111111111,\"#46039f\"],[0.2222222222222222,\"#7201a8\"],[0.3333333333333333,\"#9c179e\"],[0.4444444444444444,\"#bd3786\"],[0.5555555555555556,\"#d8576b\"],[0.6666666666666666,\"#ed7953\"],[0.7777777777777778,\"#fb9f3a\"],[0.8888888888888888,\"#fdca26\"],[1.0,\"#f0f921\"]],\"type\":\"heatmapgl\"}],\"histogram\":[{\"marker\":{\"pattern\":{\"fillmode\":\"overlay\",\"size\":10,\"solidity\":0.2}},\"type\":\"histogram\"}],\"histogram2d\":[{\"colorbar\":{\"outlinewidth\":0,\"ticks\":\"\"},\"colorscale\":[[0.0,\"#0d0887\"],[0.1111111111111111,\"#46039f\"],[0.2222222222222222,\"#7201a8\"],[0.3333333333333333,\"#9c179e\"],[0.4444444444444444,\"#bd3786\"],[0.5555555555555556,\"#d8576b\"],[0.6666666666666666,\"#ed7953\"],[0.7777777777777778,\"#fb9f3a\"],[0.8888888888888888,\"#fdca26\"],[1.0,\"#f0f921\"]],\"type\":\"histogram2d\"}],\"histogram2dcontour\":[{\"colorbar\":{\"outlinewidth\":0,\"ticks\":\"\"},\"colorscale\":[[0.0,\"#0d0887\"],[0.1111111111111111,\"#46039f\"],[0.2222222222222222,\"#7201a8\"],[0.3333333333333333,\"#9c179e\"],[0.4444444444444444,\"#bd3786\"],[0.5555555555555556,\"#d8576b\"],[0.6666666666666666,\"#ed7953\"],[0.7777777777777778,\"#fb9f3a\"],[0.8888888888888888,\"#fdca26\"],[1.0,\"#f0f921\"]],\"type\":\"histogram2dcontour\"}],\"mesh3d\":[{\"colorbar\":{\"outlinewidth\":0,\"ticks\":\"\"},\"type\":\"mesh3d\"}],\"parcoords\":[{\"line\":{\"colorbar\":{\"outlinewidth\":0,\"ticks\":\"\"}},\"type\":\"parcoords\"}],\"pie\":[{\"automargin\":true,\"type\":\"pie\"}],\"scatter\":[{\"marker\":{\"colorbar\":{\"outlinewidth\":0,\"ticks\":\"\"}},\"type\":\"scatter\"}],\"scatter3d\":[{\"line\":{\"colorbar\":{\"outlinewidth\":0,\"ticks\":\"\"}},\"marker\":{\"colorbar\":{\"outlinewidth\":0,\"ticks\":\"\"}},\"type\":\"scatter3d\"}],\"scattercarpet\":[{\"marker\":{\"colorbar\":{\"outlinewidth\":0,\"ticks\":\"\"}},\"type\":\"scattercarpet\"}],\"scattergeo\":[{\"marker\":{\"colorbar\":{\"outlinewidth\":0,\"ticks\":\"\"}},\"type\":\"scattergeo\"}],\"scattergl\":[{\"marker\":{\"colorbar\":{\"outlinewidth\":0,\"ticks\":\"\"}},\"type\":\"scattergl\"}],\"scattermapbox\":[{\"marker\":{\"colorbar\":{\"outlinewidth\":0,\"ticks\":\"\"}},\"type\":\"scattermapbox\"}],\"scatterpolar\":[{\"marker\":{\"colorbar\":{\"outlinewidth\":0,\"ticks\":\"\"}},\"type\":\"scatterpolar\"}],\"scatterpolargl\":[{\"marker\":{\"colorbar\":{\"outlinewidth\":0,\"ticks\":\"\"}},\"type\":\"scatterpolargl\"}],\"scatterternary\":[{\"marker\":{\"colorbar\":{\"outlinewidth\":0,\"ticks\":\"\"}},\"type\":\"scatterternary\"}],\"surface\":[{\"colorbar\":{\"outlinewidth\":0,\"ticks\":\"\"},\"colorscale\":[[0.0,\"#0d0887\"],[0.1111111111111111,\"#46039f\"],[0.2222222222222222,\"#7201a8\"],[0.3333333333333333,\"#9c179e\"],[0.4444444444444444,\"#bd3786\"],[0.5555555555555556,\"#d8576b\"],[0.6666666666666666,\"#ed7953\"],[0.7777777777777778,\"#fb9f3a\"],[0.8888888888888888,\"#fdca26\"],[1.0,\"#f0f921\"]],\"type\":\"surface\"}],\"table\":[{\"cells\":{\"fill\":{\"color\":\"#EBF0F8\"},\"line\":{\"color\":\"white\"}},\"header\":{\"fill\":{\"color\":\"#C8D4E3\"},\"line\":{\"color\":\"white\"}},\"type\":\"table\"}]},\"layout\":{\"annotationdefaults\":{\"arrowcolor\":\"#2a3f5f\",\"arrowhead\":0,\"arrowwidth\":1},\"autotypenumbers\":\"strict\",\"coloraxis\":{\"colorbar\":{\"outlinewidth\":0,\"ticks\":\"\"}},\"colorscale\":{\"diverging\":[[0,\"#8e0152\"],[0.1,\"#c51b7d\"],[0.2,\"#de77ae\"],[0.3,\"#f1b6da\"],[0.4,\"#fde0ef\"],[0.5,\"#f7f7f7\"],[0.6,\"#e6f5d0\"],[0.7,\"#b8e186\"],[0.8,\"#7fbc41\"],[0.9,\"#4d9221\"],[1,\"#276419\"]],\"sequential\":[[0.0,\"#0d0887\"],[0.1111111111111111,\"#46039f\"],[0.2222222222222222,\"#7201a8\"],[0.3333333333333333,\"#9c179e\"],[0.4444444444444444,\"#bd3786\"],[0.5555555555555556,\"#d8576b\"],[0.6666666666666666,\"#ed7953\"],[0.7777777777777778,\"#fb9f3a\"],[0.8888888888888888,\"#fdca26\"],[1.0,\"#f0f921\"]],\"sequentialminus\":[[0.0,\"#0d0887\"],[0.1111111111111111,\"#46039f\"],[0.2222222222222222,\"#7201a8\"],[0.3333333333333333,\"#9c179e\"],[0.4444444444444444,\"#bd3786\"],[0.5555555555555556,\"#d8576b\"],[0.6666666666666666,\"#ed7953\"],[0.7777777777777778,\"#fb9f3a\"],[0.8888888888888888,\"#fdca26\"],[1.0,\"#f0f921\"]]},\"colorway\":[\"#636efa\",\"#EF553B\",\"#00cc96\",\"#ab63fa\",\"#FFA15A\",\"#19d3f3\",\"#FF6692\",\"#B6E880\",\"#FF97FF\",\"#FECB52\"],\"font\":{\"color\":\"#2a3f5f\"},\"geo\":{\"bgcolor\":\"white\",\"lakecolor\":\"white\",\"landcolor\":\"#E5ECF6\",\"showlakes\":true,\"showland\":true,\"subunitcolor\":\"white\"},\"hoverlabel\":{\"align\":\"left\"},\"hovermode\":\"closest\",\"mapbox\":{\"style\":\"light\"},\"paper_bgcolor\":\"white\",\"plot_bgcolor\":\"#E5ECF6\",\"polar\":{\"angularaxis\":{\"gridcolor\":\"white\",\"linecolor\":\"white\",\"ticks\":\"\"},\"bgcolor\":\"#E5ECF6\",\"radialaxis\":{\"gridcolor\":\"white\",\"linecolor\":\"white\",\"ticks\":\"\"}},\"scene\":{\"xaxis\":{\"backgroundcolor\":\"#E5ECF6\",\"gridcolor\":\"white\",\"gridwidth\":2,\"linecolor\":\"white\",\"showbackground\":true,\"ticks\":\"\",\"zerolinecolor\":\"white\"},\"yaxis\":{\"backgroundcolor\":\"#E5ECF6\",\"gridcolor\":\"white\",\"gridwidth\":2,\"linecolor\":\"white\",\"showbackground\":true,\"ticks\":\"\",\"zerolinecolor\":\"white\"},\"zaxis\":{\"backgroundcolor\":\"#E5ECF6\",\"gridcolor\":\"white\",\"gridwidth\":2,\"linecolor\":\"white\",\"showbackground\":true,\"ticks\":\"\",\"zerolinecolor\":\"white\"}},\"shapedefaults\":{\"line\":{\"color\":\"#2a3f5f\"}},\"ternary\":{\"aaxis\":{\"gridcolor\":\"white\",\"linecolor\":\"white\",\"ticks\":\"\"},\"baxis\":{\"gridcolor\":\"white\",\"linecolor\":\"white\",\"ticks\":\"\"},\"bgcolor\":\"#E5ECF6\",\"caxis\":{\"gridcolor\":\"white\",\"linecolor\":\"white\",\"ticks\":\"\"}},\"title\":{\"x\":0.05},\"xaxis\":{\"automargin\":true,\"gridcolor\":\"white\",\"linecolor\":\"white\",\"ticks\":\"\",\"title\":{\"standoff\":15},\"zerolinecolor\":\"white\",\"zerolinewidth\":2},\"yaxis\":{\"automargin\":true,\"gridcolor\":\"white\",\"linecolor\":\"white\",\"ticks\":\"\",\"title\":{\"standoff\":15},\"zerolinecolor\":\"white\",\"zerolinewidth\":2}}},\"geo\":{\"domain\":{\"x\":[0.0,1.0],\"y\":[0.0,1.0]},\"center\":{},\"scope\":\"usa\"},\"coloraxis\":{\"colorbar\":{\"title\":{\"text\":\"Not in Labor Force Rate\"}},\"colorscale\":[[0.0,\"#440154\"],[0.1111111111111111,\"#482878\"],[0.2222222222222222,\"#3e4989\"],[0.3333333333333333,\"#31688e\"],[0.4444444444444444,\"#26828e\"],[0.5555555555555556,\"#1f9e89\"],[0.6666666666666666,\"#35b779\"],[0.7777777777777778,\"#6ece58\"],[0.8888888888888888,\"#b5de2b\"],[1.0,\"#fde725\"]]},\"legend\":{\"tracegroupgap\":0},\"margin\":{\"t\":60}},                        {\"responsive\": true}                    ).then(function(){\n",
              "                            \n",
              "var gd = document.getElementById('ac606f3d-504b-4a65-be00-bcf8ac73bc6e');\n",
              "var x = new MutationObserver(function (mutations, observer) {{\n",
              "        var display = window.getComputedStyle(gd).display;\n",
              "        if (!display || display === 'none') {{\n",
              "            console.log([gd, 'removed!']);\n",
              "            Plotly.purge(gd);\n",
              "            observer.disconnect();\n",
              "        }}\n",
              "}});\n",
              "\n",
              "// Listen for the removal of the full notebook cells\n",
              "var notebookContainer = gd.closest('#notebook-container');\n",
              "if (notebookContainer) {{\n",
              "    x.observe(notebookContainer, {childList: true});\n",
              "}}\n",
              "\n",
              "// Listen for the clearing of the current output cell\n",
              "var outputEl = gd.closest('.output');\n",
              "if (outputEl) {{\n",
              "    x.observe(outputEl, {childList: true});\n",
              "}}\n",
              "\n",
              "                        })                };                            </script>        </div>\n",
              "</body>\n",
              "</html>"
            ]
          },
          "metadata": {}
        }
      ]
    },
    {
      "cell_type": "code",
      "source": [
        "##  State Level Political sub Geo Map\n",
        "\n",
        "df_state['State_Code'] = df_state.State.map(us_state_to_abbrev)\n",
        "df_state['Party'] = np.where(df_state['R_Ratio']>= 0.5, 'Democratic Majority', 'Republican Majorty')\n",
        "\n",
        "fig_e3 = px.choropleth(df_state, locations='State_Code', locationmode=\"USA-states\", scope=\"usa\", color='Not in Labor Force Rate',color_continuous_scale=\"viridis\", facet_col=\"Party\" )\n",
        "fig_e3.show()\n",
        "\n"
      ],
      "metadata": {
        "colab": {
          "base_uri": "https://localhost:8080/",
          "height": 542
        },
        "id": "fXCQX6gqnk5S",
        "outputId": "e2847855-c103-494e-8ac6-9323eb69545a"
      },
      "id": "fXCQX6gqnk5S",
      "execution_count": null,
      "outputs": [
        {
          "output_type": "display_data",
          "data": {
            "text/html": [
              "<html>\n",
              "<head><meta charset=\"utf-8\" /></head>\n",
              "<body>\n",
              "    <div>            <script src=\"https://cdnjs.cloudflare.com/ajax/libs/mathjax/2.7.5/MathJax.js?config=TeX-AMS-MML_SVG\"></script><script type=\"text/javascript\">if (window.MathJax) {MathJax.Hub.Config({SVG: {font: \"STIX-Web\"}});}</script>                <script type=\"text/javascript\">window.PlotlyConfig = {MathJaxConfig: 'local'};</script>\n",
              "        <script src=\"https://cdn.plot.ly/plotly-2.8.3.min.js\"></script>                <div id=\"63409441-751b-442d-8319-bc6b94311085\" class=\"plotly-graph-div\" style=\"height:525px; width:100%;\"></div>            <script type=\"text/javascript\">                                    window.PLOTLYENV=window.PLOTLYENV || {};                                    if (document.getElementById(\"63409441-751b-442d-8319-bc6b94311085\")) {                    Plotly.newPlot(                        \"63409441-751b-442d-8319-bc6b94311085\",                        [{\"coloraxis\":\"coloraxis\",\"geo\":\"geo\",\"hovertemplate\":\"Party=Democratic Majority<br>State_Code=%{location}<br>Not in Labor Force Rate=%{z}<extra></extra>\",\"locationmode\":\"USA-states\",\"locations\":[\"AL\",\"AK\",\"AR\",\"FL\",\"GA\",\"ID\",\"IN\",\"KS\",\"KY\",\"LA\",\"MS\",\"MO\",\"MT\",\"NE\",\"NC\",\"ND\",\"OH\",\"OK\",\"PA\",\"SC\",\"SD\",\"TN\",\"TX\",\"UT\",\"WV\",\"WI\",\"WY\"],\"name\":\"\",\"z\":[42.285612190103016,34.077666167685614,41.43112262399508,40.85452953165123,37.094769329650774,36.8746178276177,36.551598875557595,34.33636566626889,41.163782246631335,41.4816646915469,43.350886675197664,37.227464367019095,38.155506894080936,31.365643014249827,37.80384427143773,31.91461142204043,37.376330833913656,38.96002259297714,37.5706447292729,40.39031555379673,33.37981662911331,38.757346830207304,35.35218831863908,31.34734380814901,47.36985376137213,34.947015980052484,34.72949729432306],\"type\":\"choropleth\"},{\"coloraxis\":\"coloraxis\",\"geo\":\"geo2\",\"hovertemplate\":\"Party=Republican Majorty<br>State_Code=%{location}<br>Not in Labor Force Rate=%{z}<extra></extra>\",\"locationmode\":\"USA-states\",\"locations\":[\"AZ\",\"CA\",\"CO\",\"CT\",\"DE\",\"HI\",\"IL\",\"IA\",\"ME\",\"MD\",\"MA\",\"MI\",\"MN\",\"NV\",\"NH\",\"NJ\",\"NM\",\"NY\",\"OR\",\"RI\",\"VT\",\"VA\",\"WA\"],\"name\":\"\",\"z\":[39.435662207861284,36.6443652294868,31.94046721769528,34.367118386007,39.943747042206795,36.604071273001665,35.46245610623653,33.90719572247177,38.659979804430044,33.44745788862322,33.24278473802822,39.10688169097904,31.619261302827372,37.03889597866944,33.34258103693956,34.375145624638066,43.071451847616764,37.457731748767294,38.41605840043877,34.85220164356679,35.689271167425346,34.765521254403914,36.119639704437844],\"type\":\"choropleth\"}],                        {\"template\":{\"data\":{\"bar\":[{\"error_x\":{\"color\":\"#2a3f5f\"},\"error_y\":{\"color\":\"#2a3f5f\"},\"marker\":{\"line\":{\"color\":\"#E5ECF6\",\"width\":0.5},\"pattern\":{\"fillmode\":\"overlay\",\"size\":10,\"solidity\":0.2}},\"type\":\"bar\"}],\"barpolar\":[{\"marker\":{\"line\":{\"color\":\"#E5ECF6\",\"width\":0.5},\"pattern\":{\"fillmode\":\"overlay\",\"size\":10,\"solidity\":0.2}},\"type\":\"barpolar\"}],\"carpet\":[{\"aaxis\":{\"endlinecolor\":\"#2a3f5f\",\"gridcolor\":\"white\",\"linecolor\":\"white\",\"minorgridcolor\":\"white\",\"startlinecolor\":\"#2a3f5f\"},\"baxis\":{\"endlinecolor\":\"#2a3f5f\",\"gridcolor\":\"white\",\"linecolor\":\"white\",\"minorgridcolor\":\"white\",\"startlinecolor\":\"#2a3f5f\"},\"type\":\"carpet\"}],\"choropleth\":[{\"colorbar\":{\"outlinewidth\":0,\"ticks\":\"\"},\"type\":\"choropleth\"}],\"contour\":[{\"colorbar\":{\"outlinewidth\":0,\"ticks\":\"\"},\"colorscale\":[[0.0,\"#0d0887\"],[0.1111111111111111,\"#46039f\"],[0.2222222222222222,\"#7201a8\"],[0.3333333333333333,\"#9c179e\"],[0.4444444444444444,\"#bd3786\"],[0.5555555555555556,\"#d8576b\"],[0.6666666666666666,\"#ed7953\"],[0.7777777777777778,\"#fb9f3a\"],[0.8888888888888888,\"#fdca26\"],[1.0,\"#f0f921\"]],\"type\":\"contour\"}],\"contourcarpet\":[{\"colorbar\":{\"outlinewidth\":0,\"ticks\":\"\"},\"type\":\"contourcarpet\"}],\"heatmap\":[{\"colorbar\":{\"outlinewidth\":0,\"ticks\":\"\"},\"colorscale\":[[0.0,\"#0d0887\"],[0.1111111111111111,\"#46039f\"],[0.2222222222222222,\"#7201a8\"],[0.3333333333333333,\"#9c179e\"],[0.4444444444444444,\"#bd3786\"],[0.5555555555555556,\"#d8576b\"],[0.6666666666666666,\"#ed7953\"],[0.7777777777777778,\"#fb9f3a\"],[0.8888888888888888,\"#fdca26\"],[1.0,\"#f0f921\"]],\"type\":\"heatmap\"}],\"heatmapgl\":[{\"colorbar\":{\"outlinewidth\":0,\"ticks\":\"\"},\"colorscale\":[[0.0,\"#0d0887\"],[0.1111111111111111,\"#46039f\"],[0.2222222222222222,\"#7201a8\"],[0.3333333333333333,\"#9c179e\"],[0.4444444444444444,\"#bd3786\"],[0.5555555555555556,\"#d8576b\"],[0.6666666666666666,\"#ed7953\"],[0.7777777777777778,\"#fb9f3a\"],[0.8888888888888888,\"#fdca26\"],[1.0,\"#f0f921\"]],\"type\":\"heatmapgl\"}],\"histogram\":[{\"marker\":{\"pattern\":{\"fillmode\":\"overlay\",\"size\":10,\"solidity\":0.2}},\"type\":\"histogram\"}],\"histogram2d\":[{\"colorbar\":{\"outlinewidth\":0,\"ticks\":\"\"},\"colorscale\":[[0.0,\"#0d0887\"],[0.1111111111111111,\"#46039f\"],[0.2222222222222222,\"#7201a8\"],[0.3333333333333333,\"#9c179e\"],[0.4444444444444444,\"#bd3786\"],[0.5555555555555556,\"#d8576b\"],[0.6666666666666666,\"#ed7953\"],[0.7777777777777778,\"#fb9f3a\"],[0.8888888888888888,\"#fdca26\"],[1.0,\"#f0f921\"]],\"type\":\"histogram2d\"}],\"histogram2dcontour\":[{\"colorbar\":{\"outlinewidth\":0,\"ticks\":\"\"},\"colorscale\":[[0.0,\"#0d0887\"],[0.1111111111111111,\"#46039f\"],[0.2222222222222222,\"#7201a8\"],[0.3333333333333333,\"#9c179e\"],[0.4444444444444444,\"#bd3786\"],[0.5555555555555556,\"#d8576b\"],[0.6666666666666666,\"#ed7953\"],[0.7777777777777778,\"#fb9f3a\"],[0.8888888888888888,\"#fdca26\"],[1.0,\"#f0f921\"]],\"type\":\"histogram2dcontour\"}],\"mesh3d\":[{\"colorbar\":{\"outlinewidth\":0,\"ticks\":\"\"},\"type\":\"mesh3d\"}],\"parcoords\":[{\"line\":{\"colorbar\":{\"outlinewidth\":0,\"ticks\":\"\"}},\"type\":\"parcoords\"}],\"pie\":[{\"automargin\":true,\"type\":\"pie\"}],\"scatter\":[{\"marker\":{\"colorbar\":{\"outlinewidth\":0,\"ticks\":\"\"}},\"type\":\"scatter\"}],\"scatter3d\":[{\"line\":{\"colorbar\":{\"outlinewidth\":0,\"ticks\":\"\"}},\"marker\":{\"colorbar\":{\"outlinewidth\":0,\"ticks\":\"\"}},\"type\":\"scatter3d\"}],\"scattercarpet\":[{\"marker\":{\"colorbar\":{\"outlinewidth\":0,\"ticks\":\"\"}},\"type\":\"scattercarpet\"}],\"scattergeo\":[{\"marker\":{\"colorbar\":{\"outlinewidth\":0,\"ticks\":\"\"}},\"type\":\"scattergeo\"}],\"scattergl\":[{\"marker\":{\"colorbar\":{\"outlinewidth\":0,\"ticks\":\"\"}},\"type\":\"scattergl\"}],\"scattermapbox\":[{\"marker\":{\"colorbar\":{\"outlinewidth\":0,\"ticks\":\"\"}},\"type\":\"scattermapbox\"}],\"scatterpolar\":[{\"marker\":{\"colorbar\":{\"outlinewidth\":0,\"ticks\":\"\"}},\"type\":\"scatterpolar\"}],\"scatterpolargl\":[{\"marker\":{\"colorbar\":{\"outlinewidth\":0,\"ticks\":\"\"}},\"type\":\"scatterpolargl\"}],\"scatterternary\":[{\"marker\":{\"colorbar\":{\"outlinewidth\":0,\"ticks\":\"\"}},\"type\":\"scatterternary\"}],\"surface\":[{\"colorbar\":{\"outlinewidth\":0,\"ticks\":\"\"},\"colorscale\":[[0.0,\"#0d0887\"],[0.1111111111111111,\"#46039f\"],[0.2222222222222222,\"#7201a8\"],[0.3333333333333333,\"#9c179e\"],[0.4444444444444444,\"#bd3786\"],[0.5555555555555556,\"#d8576b\"],[0.6666666666666666,\"#ed7953\"],[0.7777777777777778,\"#fb9f3a\"],[0.8888888888888888,\"#fdca26\"],[1.0,\"#f0f921\"]],\"type\":\"surface\"}],\"table\":[{\"cells\":{\"fill\":{\"color\":\"#EBF0F8\"},\"line\":{\"color\":\"white\"}},\"header\":{\"fill\":{\"color\":\"#C8D4E3\"},\"line\":{\"color\":\"white\"}},\"type\":\"table\"}]},\"layout\":{\"annotationdefaults\":{\"arrowcolor\":\"#2a3f5f\",\"arrowhead\":0,\"arrowwidth\":1},\"autotypenumbers\":\"strict\",\"coloraxis\":{\"colorbar\":{\"outlinewidth\":0,\"ticks\":\"\"}},\"colorscale\":{\"diverging\":[[0,\"#8e0152\"],[0.1,\"#c51b7d\"],[0.2,\"#de77ae\"],[0.3,\"#f1b6da\"],[0.4,\"#fde0ef\"],[0.5,\"#f7f7f7\"],[0.6,\"#e6f5d0\"],[0.7,\"#b8e186\"],[0.8,\"#7fbc41\"],[0.9,\"#4d9221\"],[1,\"#276419\"]],\"sequential\":[[0.0,\"#0d0887\"],[0.1111111111111111,\"#46039f\"],[0.2222222222222222,\"#7201a8\"],[0.3333333333333333,\"#9c179e\"],[0.4444444444444444,\"#bd3786\"],[0.5555555555555556,\"#d8576b\"],[0.6666666666666666,\"#ed7953\"],[0.7777777777777778,\"#fb9f3a\"],[0.8888888888888888,\"#fdca26\"],[1.0,\"#f0f921\"]],\"sequentialminus\":[[0.0,\"#0d0887\"],[0.1111111111111111,\"#46039f\"],[0.2222222222222222,\"#7201a8\"],[0.3333333333333333,\"#9c179e\"],[0.4444444444444444,\"#bd3786\"],[0.5555555555555556,\"#d8576b\"],[0.6666666666666666,\"#ed7953\"],[0.7777777777777778,\"#fb9f3a\"],[0.8888888888888888,\"#fdca26\"],[1.0,\"#f0f921\"]]},\"colorway\":[\"#636efa\",\"#EF553B\",\"#00cc96\",\"#ab63fa\",\"#FFA15A\",\"#19d3f3\",\"#FF6692\",\"#B6E880\",\"#FF97FF\",\"#FECB52\"],\"font\":{\"color\":\"#2a3f5f\"},\"geo\":{\"bgcolor\":\"white\",\"lakecolor\":\"white\",\"landcolor\":\"#E5ECF6\",\"showlakes\":true,\"showland\":true,\"subunitcolor\":\"white\"},\"hoverlabel\":{\"align\":\"left\"},\"hovermode\":\"closest\",\"mapbox\":{\"style\":\"light\"},\"paper_bgcolor\":\"white\",\"plot_bgcolor\":\"#E5ECF6\",\"polar\":{\"angularaxis\":{\"gridcolor\":\"white\",\"linecolor\":\"white\",\"ticks\":\"\"},\"bgcolor\":\"#E5ECF6\",\"radialaxis\":{\"gridcolor\":\"white\",\"linecolor\":\"white\",\"ticks\":\"\"}},\"scene\":{\"xaxis\":{\"backgroundcolor\":\"#E5ECF6\",\"gridcolor\":\"white\",\"gridwidth\":2,\"linecolor\":\"white\",\"showbackground\":true,\"ticks\":\"\",\"zerolinecolor\":\"white\"},\"yaxis\":{\"backgroundcolor\":\"#E5ECF6\",\"gridcolor\":\"white\",\"gridwidth\":2,\"linecolor\":\"white\",\"showbackground\":true,\"ticks\":\"\",\"zerolinecolor\":\"white\"},\"zaxis\":{\"backgroundcolor\":\"#E5ECF6\",\"gridcolor\":\"white\",\"gridwidth\":2,\"linecolor\":\"white\",\"showbackground\":true,\"ticks\":\"\",\"zerolinecolor\":\"white\"}},\"shapedefaults\":{\"line\":{\"color\":\"#2a3f5f\"}},\"ternary\":{\"aaxis\":{\"gridcolor\":\"white\",\"linecolor\":\"white\",\"ticks\":\"\"},\"baxis\":{\"gridcolor\":\"white\",\"linecolor\":\"white\",\"ticks\":\"\"},\"bgcolor\":\"#E5ECF6\",\"caxis\":{\"gridcolor\":\"white\",\"linecolor\":\"white\",\"ticks\":\"\"}},\"title\":{\"x\":0.05},\"xaxis\":{\"automargin\":true,\"gridcolor\":\"white\",\"linecolor\":\"white\",\"ticks\":\"\",\"title\":{\"standoff\":15},\"zerolinecolor\":\"white\",\"zerolinewidth\":2},\"yaxis\":{\"automargin\":true,\"gridcolor\":\"white\",\"linecolor\":\"white\",\"ticks\":\"\",\"title\":{\"standoff\":15},\"zerolinecolor\":\"white\",\"zerolinewidth\":2}}},\"geo\":{\"domain\":{\"x\":[0.0,0.49],\"y\":[0.0,1.0]},\"center\":{},\"scope\":\"usa\"},\"geo2\":{\"domain\":{\"x\":[0.51,1.0],\"y\":[0.0,1.0]},\"center\":{},\"scope\":\"usa\"},\"annotations\":[{\"font\":{},\"showarrow\":false,\"text\":\"Party=Democratic Majority\",\"x\":0.245,\"xanchor\":\"center\",\"xref\":\"paper\",\"y\":1.0,\"yanchor\":\"bottom\",\"yref\":\"paper\"},{\"font\":{},\"showarrow\":false,\"text\":\"Party=Republican Majorty\",\"x\":0.755,\"xanchor\":\"center\",\"xref\":\"paper\",\"y\":1.0,\"yanchor\":\"bottom\",\"yref\":\"paper\"}],\"coloraxis\":{\"colorbar\":{\"title\":{\"text\":\"Not in Labor Force Rate\"}},\"colorscale\":[[0.0,\"#440154\"],[0.1111111111111111,\"#482878\"],[0.2222222222222222,\"#3e4989\"],[0.3333333333333333,\"#31688e\"],[0.4444444444444444,\"#26828e\"],[0.5555555555555556,\"#1f9e89\"],[0.6666666666666666,\"#35b779\"],[0.7777777777777778,\"#6ece58\"],[0.8888888888888888,\"#b5de2b\"],[1.0,\"#fde725\"]]},\"legend\":{\"tracegroupgap\":0},\"margin\":{\"t\":60}},                        {\"responsive\": true}                    ).then(function(){\n",
              "                            \n",
              "var gd = document.getElementById('63409441-751b-442d-8319-bc6b94311085');\n",
              "var x = new MutationObserver(function (mutations, observer) {{\n",
              "        var display = window.getComputedStyle(gd).display;\n",
              "        if (!display || display === 'none') {{\n",
              "            console.log([gd, 'removed!']);\n",
              "            Plotly.purge(gd);\n",
              "            observer.disconnect();\n",
              "        }}\n",
              "}});\n",
              "\n",
              "// Listen for the removal of the full notebook cells\n",
              "var notebookContainer = gd.closest('#notebook-container');\n",
              "if (notebookContainer) {{\n",
              "    x.observe(notebookContainer, {childList: true});\n",
              "}}\n",
              "\n",
              "// Listen for the clearing of the current output cell\n",
              "var outputEl = gd.closest('.output');\n",
              "if (outputEl) {{\n",
              "    x.observe(outputEl, {childList: true});\n",
              "}}\n",
              "\n",
              "                        })                };                            </script>        </div>\n",
              "</body>\n",
              "</html>"
            ]
          },
          "metadata": {}
        }
      ]
    },
    {
      "cell_type": "markdown",
      "source": [],
      "metadata": {
        "id": "N8zgd2fqU-t7"
      },
      "id": "N8zgd2fqU-t7"
    },
    {
      "cell_type": "markdown",
      "source": [
        "##Party Affiliation Dominance Ratio\n",
        "- To better assess how the \"Not in Labor Force Rate\" would impact/reflect the political affiliation we categorize the US states political affiliation based on more griadient political affiliation variable with One (Solid Red) represending states with 100% of the congressional districts dominated by Republicans and and Zero being the states with 100% democrares domination.\n",
        "\n",
        "- The plot provide didn't provide support for our original hypothesis where the Red/Republican dominant states are having relatively higher values of \"% of Household Not in Labor Force\", compared to the Blue/Democratic demonant states\n",
        "\n"
      ],
      "metadata": {
        "id": "zq4aD2yTgi1K"
      },
      "id": "zq4aD2yTgi1K"
    },
    {
      "cell_type": "code",
      "source": [
        "## Democratic districts ratio vs Not in Labor Force Rate\n",
        "\n",
        "#s1= df_state['Total Households']/30000\n",
        "fig_e2, ax = plt.subplots(figsize=(15, 12))\n",
        "df_state.plot.scatter(x='R_Ratio', y='Not in Labor Force Rate', c='R_Ratio',s=50, colormap='bwr', ax=ax)\n",
        "plt.ylabel(\"Not in Labor Force Rate\", fontsize=14)\n",
        "plt.xlabel(\"Political Affiliation\", fontsize=15)\n",
        "plt.legend()\n",
        "plt.show()"
      ],
      "metadata": {
        "colab": {
          "base_uri": "https://localhost:8080/",
          "height": 741
        },
        "id": "ELd3mlQ5Kh5b",
        "outputId": "9e4a84f5-39ac-43f7-d6c1-6f132b7e62cf"
      },
      "id": "ELd3mlQ5Kh5b",
      "execution_count": null,
      "outputs": [
        {
          "output_type": "stream",
          "name": "stderr",
          "text": [
            "WARNING:matplotlib.legend:No handles with labels found to put in legend.\n"
          ]
        },
        {
          "output_type": "display_data",
          "data": {
            "text/plain": [
              "<Figure size 1080x864 with 2 Axes>"
            ],
            "image/png": "[encoded data removed]"
          },
          "metadata": {
            "needs_background": "light"
          }
        }
      ]
    },
    {
      "cell_type": "code",
      "source": [],
      "metadata": {
        "id": "JrweBSMTehld"
      },
      "id": "JrweBSMTehld",
      "execution_count": null,
      "outputs": []
    },
    {
      "cell_type": "markdown",
      "source": [
        "#Take Aways - Flaws"
      ],
      "metadata": {
        "id": "94S9HvSLYkpC"
      },
      "id": "94S9HvSLYkpC"
    }
  ],
  "metadata": {
    "kernelspec": {
      "display_name": "Python 3 (ipykernel)",
      "language": "python",
      "name": "python3"
    },
    "language_info": {
      "codemirror_mode": {
        "name": "ipython",
        "version": 3
      },
      "file_extension": ".py",
      "mimetype": "text/x-python",
      "name": "python",
      "nbconvert_exporter": "python",
      "pygments_lexer": "ipython3",
      "version": "3.8.8"
    },
    "colab": {
      "provenance": [],
      "collapsed_sections": [
        "831783e3",
        "92583b02",
        "xmsUvjcmVQ4y",
        "QtJRref2WDhO",
        "zq4aD2yTgi1K"
      ],
      "toc_visible": true,
      "include_colab_link": true
    }
  },
  "nbformat": 4,
  "nbformat_minor": 5
}